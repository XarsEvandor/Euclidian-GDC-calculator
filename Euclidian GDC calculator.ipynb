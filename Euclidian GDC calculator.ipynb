{
 "cells": [
  {
   "cell_type": "code",
   "execution_count": 3,
   "id": "metallic-enlargement",
   "metadata": {},
   "outputs": [
    {
     "name": "stdout",
     "output_type": "stream",
     "text": [
      "-79 = 19 * -5 + 16\n",
      "19 = 16 * 1 + 3\n",
      "16 = 3 * 5 + 1\n",
      "3 = 1 * 3 + 0\n",
      "GCD --> 1\n",
      "Confirmation --> 1\n"
     ]
    }
   ],
   "source": [
    "import math\n",
    "\n",
    "x = -79\n",
    "y = 19\n",
    "conf = math.gcd(x,y)\n",
    "\n",
    "while y != 0:\n",
    "    print(str(x) + \" = \" + str(y) + \" * \" + str(x//y) + \" + \" + str(x%y))\n",
    "    r = x%y\n",
    "    x = y\n",
    "    y = r\n",
    "\n",
    "print(\"GCD --> \" + str(x))\n",
    "print(\"Confirmation --> \" + str(conf))"
   ]
  }
 ],
 "metadata": {
  "kernelspec": {
   "display_name": "Python 3",
   "language": "python",
   "name": "python3"
  },
  "language_info": {
   "codemirror_mode": {
    "name": "ipython",
    "version": 3
   },
   "file_extension": ".py",
   "mimetype": "text/x-python",
   "name": "python",
   "nbconvert_exporter": "python",
   "pygments_lexer": "ipython3",
   "version": "3.7.3"
  }
 },
 "nbformat": 4,
 "nbformat_minor": 5
}
